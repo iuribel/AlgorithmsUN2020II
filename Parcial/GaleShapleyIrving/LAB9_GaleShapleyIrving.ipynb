{
  "nbformat": 4,
  "nbformat_minor": 0,
  "metadata": {
    "colab": {
      "name": "LAB9-GaleShapleyIrving",
      "provenance": [],
      "collapsed_sections": []
    },
    "kernelspec": {
      "name": "python3",
      "display_name": "Python 3"
    }
  },
  "cells": [
    {
      "cell_type": "markdown",
      "metadata": {
        "id": "tYeYKPTtgrLV"
      },
      "source": [
        "**PUNTO 1**"
      ]
    },
    {
      "cell_type": "markdown",
      "metadata": {
        "id": "Hl-1jhEKQLRJ"
      },
      "source": [
        "**WORST CASE SCENARIO**\n",
        "\n",
        "https://stackoverflow.com/questions/36381702/worst-case-for-stable-matchings\n",
        "para este orden se tiene que recorrer todas las opciones hasta llegar al matrimonio estable"
      ]
    },
    {
      "cell_type": "code",
      "metadata": {
        "id": "AtbrEk2QYHLI"
      },
      "source": [
        "import numpy as np"
      ],
      "execution_count": 2,
      "outputs": []
    },
    {
      "cell_type": "code",
      "metadata": {
        "colab": {
          "base_uri": "https://localhost:8080/"
        },
        "id": "4JPFusiRAoL3",
        "outputId": "b285103e-e94c-4ea2-a6e1-0466c4ccd8a5"
      },
      "source": [
        "def menWorst(n):\n",
        "  dicMenWorst={}\n",
        "  for i in range(n):\n",
        "    clave='m'+str(i+1)\n",
        "    valor=[]\n",
        "    for j in range(n):\n",
        "      if i+j+1>n:\n",
        "        v='w'+str(i+j+1-n)\n",
        "        valor.append(v)\n",
        "      else:\n",
        "        v='w'+str(i+j+1)\n",
        "        valor.append(v)\n",
        "    npValor= np.array(valor)\n",
        "    dicMenWorst[clave]=npValor\n",
        "  return dicMenWorst\n",
        "menWorst(8)\n",
        "\n",
        "         \n"
      ],
      "execution_count": 3,
      "outputs": [
        {
          "output_type": "execute_result",
          "data": {
            "text/plain": [
              "{'m1': array(['w1', 'w2', 'w3', 'w4', 'w5', 'w6', 'w7', 'w8'], dtype='<U2'),\n",
              " 'm2': array(['w2', 'w3', 'w4', 'w5', 'w6', 'w7', 'w8', 'w1'], dtype='<U2'),\n",
              " 'm3': array(['w3', 'w4', 'w5', 'w6', 'w7', 'w8', 'w1', 'w2'], dtype='<U2'),\n",
              " 'm4': array(['w4', 'w5', 'w6', 'w7', 'w8', 'w1', 'w2', 'w3'], dtype='<U2'),\n",
              " 'm5': array(['w5', 'w6', 'w7', 'w8', 'w1', 'w2', 'w3', 'w4'], dtype='<U2'),\n",
              " 'm6': array(['w6', 'w7', 'w8', 'w1', 'w2', 'w3', 'w4', 'w5'], dtype='<U2'),\n",
              " 'm7': array(['w7', 'w8', 'w1', 'w2', 'w3', 'w4', 'w5', 'w6'], dtype='<U2'),\n",
              " 'm8': array(['w8', 'w1', 'w2', 'w3', 'w4', 'w5', 'w6', 'w7'], dtype='<U2')}"
            ]
          },
          "metadata": {
            "tags": []
          },
          "execution_count": 3
        }
      ]
    },
    {
      "cell_type": "code",
      "metadata": {
        "colab": {
          "base_uri": "https://localhost:8080/"
        },
        "id": "M1HyiVgvPyUW",
        "outputId": "cada05bc-1a98-4c5a-acfa-2bcbe3c9ad50"
      },
      "source": [
        "\n",
        "def womenWorst(n):\n",
        "  dicWomenWorst={}\n",
        "  for i in range(n):\n",
        "    clave='w'+str(i+1)\n",
        "    valor=[]\n",
        "    for j in range(n):\n",
        "      if i+j+1>n:\n",
        "        v='m'+str(i+j+2-n)\n",
        "        valor.append(v)\n",
        "      else:\n",
        "        v='m'+str(i+j+2)\n",
        "        if v == 'm'+str(n+1):\n",
        "          v='m1'\n",
        "        valor.append(v)\n",
        "    npValor= np.array(valor)\n",
        "    dicWomenWorst[clave]=npValor\n",
        "  return dicWomenWorst\n",
        "\n",
        "womenWorst(9)\n",
        "#dic=womenWorst(5)\n",
        "#dic['w1'][2]"
      ],
      "execution_count": 4,
      "outputs": [
        {
          "output_type": "execute_result",
          "data": {
            "text/plain": [
              "{'w1': array(['m2', 'm3', 'm4', 'm5', 'm6', 'm7', 'm8', 'm9', 'm1'], dtype='<U2'),\n",
              " 'w2': array(['m3', 'm4', 'm5', 'm6', 'm7', 'm8', 'm9', 'm1', 'm2'], dtype='<U2'),\n",
              " 'w3': array(['m4', 'm5', 'm6', 'm7', 'm8', 'm9', 'm1', 'm2', 'm3'], dtype='<U2'),\n",
              " 'w4': array(['m5', 'm6', 'm7', 'm8', 'm9', 'm1', 'm2', 'm3', 'm4'], dtype='<U2'),\n",
              " 'w5': array(['m6', 'm7', 'm8', 'm9', 'm1', 'm2', 'm3', 'm4', 'm5'], dtype='<U2'),\n",
              " 'w6': array(['m7', 'm8', 'm9', 'm1', 'm2', 'm3', 'm4', 'm5', 'm6'], dtype='<U2'),\n",
              " 'w7': array(['m8', 'm9', 'm1', 'm2', 'm3', 'm4', 'm5', 'm6', 'm7'], dtype='<U2'),\n",
              " 'w8': array(['m9', 'm1', 'm2', 'm3', 'm4', 'm5', 'm6', 'm7', 'm8'], dtype='<U2'),\n",
              " 'w9': array(['m1', 'm2', 'm3', 'm4', 'm5', 'm6', 'm7', 'm8', 'm9'], dtype='<U2')}"
            ]
          },
          "metadata": {
            "tags": []
          },
          "execution_count": 4
        }
      ]
    },
    {
      "cell_type": "markdown",
      "metadata": {
        "id": "bP7zT9PaTsZ8"
      },
      "source": [
        "**BEST CASE SCENARIO**\n",
        "\n",
        "Best: cada pareja se tiene de primeras en sus opciones "
      ]
    },
    {
      "cell_type": "code",
      "metadata": {
        "colab": {
          "base_uri": "https://localhost:8080/"
        },
        "id": "WRX2h9e3egwf",
        "outputId": "d47e5156-969d-4fd3-ff5d-5780bb0acb81"
      },
      "source": [
        "def menBest(n):\n",
        "  dicMenBest={}\n",
        "  for i in range(n):\n",
        "    clave='m'+str(i+1)\n",
        "    valor=[]\n",
        "    for j in range(n):\n",
        "      if i+j+1>n:\n",
        "        v='w'+str(i+j+1-n)\n",
        "        valor.append(v)\n",
        "      else:\n",
        "        v='w'+str(i+j+1)\n",
        "        valor.append(v)\n",
        "    npValor= np.array(valor)\n",
        "    dicMenBest[clave]=npValor\n",
        "  return dicMenBest\n",
        "\n",
        "menBest(8)\n"
      ],
      "execution_count": 5,
      "outputs": [
        {
          "output_type": "execute_result",
          "data": {
            "text/plain": [
              "{'m1': array(['w1', 'w2', 'w3', 'w4', 'w5', 'w6', 'w7', 'w8'], dtype='<U2'),\n",
              " 'm2': array(['w2', 'w3', 'w4', 'w5', 'w6', 'w7', 'w8', 'w1'], dtype='<U2'),\n",
              " 'm3': array(['w3', 'w4', 'w5', 'w6', 'w7', 'w8', 'w1', 'w2'], dtype='<U2'),\n",
              " 'm4': array(['w4', 'w5', 'w6', 'w7', 'w8', 'w1', 'w2', 'w3'], dtype='<U2'),\n",
              " 'm5': array(['w5', 'w6', 'w7', 'w8', 'w1', 'w2', 'w3', 'w4'], dtype='<U2'),\n",
              " 'm6': array(['w6', 'w7', 'w8', 'w1', 'w2', 'w3', 'w4', 'w5'], dtype='<U2'),\n",
              " 'm7': array(['w7', 'w8', 'w1', 'w2', 'w3', 'w4', 'w5', 'w6'], dtype='<U2'),\n",
              " 'm8': array(['w8', 'w1', 'w2', 'w3', 'w4', 'w5', 'w6', 'w7'], dtype='<U2')}"
            ]
          },
          "metadata": {
            "tags": []
          },
          "execution_count": 5
        }
      ]
    },
    {
      "cell_type": "code",
      "metadata": {
        "colab": {
          "base_uri": "https://localhost:8080/"
        },
        "id": "BdgMVUBtzF7U",
        "outputId": "4c386c28-a8d4-48ec-986d-0892e179dfbc"
      },
      "source": [
        "def womenBest(n, dic={}):\n",
        "  elements=dic.items()\n",
        "  dicWomenBest={}\n",
        "  for i in range(n):\n",
        "    clave='w'+str(i+1)\n",
        "    aux=[['0'] * i for i in range(n)]\n",
        "    valor=np.array(aux)   \n",
        "    for key, value in elements:\n",
        "      l=np.where(value == clave)[0][0]\n",
        "      valor[l]=key\n",
        "    dicWomenBest[clave]=valor\n",
        "  return dicWomenBest\n",
        "mB=menBest(8)\n",
        "womenBest(8,mB)"
      ],
      "execution_count": 6,
      "outputs": [
        {
          "output_type": "execute_result",
          "data": {
            "text/plain": [
              "{'w1': array(['m1', 'm8', 'm7', 'm6', 'm5', 'm4', 'm3', 'm2'], dtype=object),\n",
              " 'w2': array(['m2', 'm1', 'm8', 'm7', 'm6', 'm5', 'm4', 'm3'], dtype=object),\n",
              " 'w3': array(['m3', 'm2', 'm1', 'm8', 'm7', 'm6', 'm5', 'm4'], dtype=object),\n",
              " 'w4': array(['m4', 'm3', 'm2', 'm1', 'm8', 'm7', 'm6', 'm5'], dtype=object),\n",
              " 'w5': array(['m5', 'm4', 'm3', 'm2', 'm1', 'm8', 'm7', 'm6'], dtype=object),\n",
              " 'w6': array(['m6', 'm5', 'm4', 'm3', 'm2', 'm1', 'm8', 'm7'], dtype=object),\n",
              " 'w7': array(['m7', 'm6', 'm5', 'm4', 'm3', 'm2', 'm1', 'm8'], dtype=object),\n",
              " 'w8': array(['m8', 'm7', 'm6', 'm5', 'm4', 'm3', 'm2', 'm1'], dtype=object)}"
            ]
          },
          "metadata": {
            "tags": []
          },
          "execution_count": 6
        }
      ]
    },
    {
      "cell_type": "code",
      "metadata": {
        "colab": {
          "base_uri": "https://localhost:8080/"
        },
        "id": "SzvW1j_Ay2WJ",
        "outputId": "c3234a50-17df-4992-fb0c-19bdcec730db"
      },
      "source": [
        "from collections import defaultdict\n",
        "from operator import itemgetter\n",
        "\n",
        "def get_res(dVals):\n",
        "       res = defaultdict(list)\n",
        "       for k, v in dVals.items():\n",
        "           res[v].append(k)\n",
        "       return min(res.items(), key=itemgetter(0))[1]\n",
        "\n",
        "def stableMarriageWorst(n):\n",
        "  w=womenWorst(n)\n",
        "  m=menWorst(n)\n",
        "  couplesDic={}\n",
        "  aux={}\n",
        "  women=w.items()\n",
        "  men=m.items()\n",
        "  pareados=False\n",
        "  for woman, preferences in women:\n",
        "    couplesDic[woman]=''\n",
        "  s=0\n",
        "  while s<n:\n",
        "    elem=couplesDic.items()\n",
        "    for key, value in elem:\n",
        "      aux[key]=value\n",
        "    for woman, preferences in women:\n",
        "      propuestas={}\n",
        "      for man, preferencess in men:\n",
        "        if preferencess[s]==woman:\n",
        "          indexMan=np.where(preferences == man)[0][0]\n",
        "          d = {man:indexMan} \n",
        "          propuestas.update(d)\n",
        "      #print(woman,propuestas)\n",
        "      choice=get_res(propuestas)\n",
        "      if couplesDic[woman]=='':\n",
        "        couplesDic[woman]=choice\n",
        "      else:\n",
        "        indexCouple=np.where(preferences == couplesDic[woman])[0][0]\n",
        "        indexChoice=np.where(preferences == choice)[0][0]\n",
        "        if indexChoice<indexCouple:\n",
        "          couplesDic[woman]=choice\n",
        "    #print('iteraciones: ', s+1, ' ' ,couplesDic)\n",
        "    if aux==couplesDic:\n",
        "      break\n",
        "    else:\n",
        "      s+=1    \n",
        "  #print('iteraciones: ', s, ' ' ,couplesDic)\n",
        "  return s\n",
        "    \n",
        "    \n",
        "    \n",
        "stableMarriageWorst(4)\n",
        "#couplesDic['w2']='m1'\n",
        "#dic=womenWorst(5)\n",
        "#dic['w1'][2]"
      ],
      "execution_count": 78,
      "outputs": [
        {
          "output_type": "execute_result",
          "data": {
            "text/plain": [
              "4"
            ]
          },
          "metadata": {
            "tags": []
          },
          "execution_count": 78
        }
      ]
    },
    {
      "cell_type": "code",
      "metadata": {
        "colab": {
          "base_uri": "https://localhost:8080/"
        },
        "id": "QvbFBtwKU0d6",
        "outputId": "46c3b9fe-02ef-46f9-cb53-545a11e76109"
      },
      "source": [
        "stableMarriageWorst(40)"
      ],
      "execution_count": 110,
      "outputs": [
        {
          "output_type": "execute_result",
          "data": {
            "text/plain": [
              "40"
            ]
          },
          "metadata": {
            "tags": []
          },
          "execution_count": 110
        }
      ]
    },
    {
      "cell_type": "code",
      "metadata": {
        "colab": {
          "base_uri": "https://localhost:8080/"
        },
        "id": "mPMTXUGD9j90",
        "outputId": "d3a826f0-61c4-436e-fc45-04f40ca8823b"
      },
      "source": [
        "from collections import defaultdict\n",
        "from operator import itemgetter\n",
        "\n",
        "def get_res(dVals):\n",
        "       res = defaultdict(list)\n",
        "       for k, v in dVals.items():\n",
        "           res[v].append(k)\n",
        "       return min(res.items(), key=itemgetter(0))[1]\n",
        "\n",
        "def stableMarriageBest(n):\n",
        "  m=menBest(n)\n",
        "  w=womenBest(n,m)  \n",
        "  aux={}\n",
        "  couplesDicB={}\n",
        "  women=w.items()\n",
        "  men=m.items()\n",
        "  pareados=False\n",
        "  for woman, preferences in women:\n",
        "    couplesDicB[woman]=''\n",
        "  s=0\n",
        "  while True:\n",
        "    elem=couplesDicB.items()\n",
        "    for key, value in elem:\n",
        "      aux[key]=value\n",
        "    for woman, preferences in women:\n",
        "      propuestas={}\n",
        "      for man, preferencess in men:\n",
        "        if preferencess[s]==woman:\n",
        "          indexMan=np.where(preferences == man)[0][0]\n",
        "          d = {man:indexMan} \n",
        "          propuestas.update(d)\n",
        "      #print(woman,propuestas)\n",
        "      choice=get_res(propuestas)\n",
        "      if couplesDicB[woman]=='':\n",
        "        couplesDicB[woman]=choice\n",
        "      else:\n",
        "        indexCouple=np.where(preferences == couplesDicB[woman])[0][0]\n",
        "        indexChoice=np.where(preferences == choice)[0][0]\n",
        "        if indexChoice<indexCouple:\n",
        "          couplesDicB[woman]=choice\n",
        "    #print(aux)\n",
        "    #print(couplesDicB)\n",
        "    \n",
        "    if aux==couplesDicB:\n",
        "      break\n",
        "    else:\n",
        "      s+=1\n",
        "  #print('iteraciones: ', s, ' ' ,couplesDicB)\n",
        "  return s  \n",
        "    \n",
        "    \n",
        "stableMarriageBest(4)"
      ],
      "execution_count": 9,
      "outputs": [
        {
          "output_type": "stream",
          "text": [
            "iteraciones:  1   {'w1': ['m1'], 'w2': ['m2'], 'w3': ['m3'], 'w4': ['m4']}\n"
          ],
          "name": "stdout"
        },
        {
          "output_type": "execute_result",
          "data": {
            "text/plain": [
              "1"
            ]
          },
          "metadata": {
            "tags": []
          },
          "execution_count": 9
        }
      ]
    },
    {
      "cell_type": "code",
      "metadata": {
        "colab": {
          "base_uri": "https://localhost:8080/"
        },
        "id": "_qdSLyRTaDBs",
        "outputId": "a1810f8c-324f-4e0e-f1f6-3540a89ae69e"
      },
      "source": [
        "stableMarriageBest(40)"
      ],
      "execution_count": 10,
      "outputs": [
        {
          "output_type": "stream",
          "text": [
            "iteraciones:  1   {'w1': ['m1'], 'w2': ['m2'], 'w3': ['m3'], 'w4': ['m4'], 'w5': ['m5'], 'w6': ['m6'], 'w7': ['m7'], 'w8': ['m8'], 'w9': ['m9'], 'w10': ['m10'], 'w11': ['m11'], 'w12': ['m12'], 'w13': ['m13'], 'w14': ['m14'], 'w15': ['m15'], 'w16': ['m16'], 'w17': ['m17'], 'w18': ['m18'], 'w19': ['m19'], 'w20': ['m20'], 'w21': ['m21'], 'w22': ['m22'], 'w23': ['m23'], 'w24': ['m24'], 'w25': ['m25'], 'w26': ['m26'], 'w27': ['m27'], 'w28': ['m28'], 'w29': ['m29'], 'w30': ['m30'], 'w31': ['m31'], 'w32': ['m32'], 'w33': ['m33'], 'w34': ['m34'], 'w35': ['m35'], 'w36': ['m36'], 'w37': ['m37'], 'w38': ['m38'], 'w39': ['m39'], 'w40': ['m40']}\n"
          ],
          "name": "stdout"
        },
        {
          "output_type": "execute_result",
          "data": {
            "text/plain": [
              "1"
            ]
          },
          "metadata": {
            "tags": []
          },
          "execution_count": 10
        }
      ]
    },
    {
      "cell_type": "markdown",
      "metadata": {
        "id": "irmn-rggrFk4"
      },
      "source": [
        "**PUNTO 2**\n",
        "\n",
        "crear preferencias random para hombres y mujeres \n",
        "correr 100 ejemplos diferentes , pero con numeros 4 y 40"
      ]
    },
    {
      "cell_type": "code",
      "metadata": {
        "colab": {
          "base_uri": "https://localhost:8080/"
        },
        "id": "kxBSU07Ssb2d",
        "outputId": "e8a1144c-4b33-4c1f-e222-119c925046c2"
      },
      "source": [
        "import random\n",
        "def womenRand(n):\n",
        "  m=n\n",
        "  numeros=[]\n",
        "  for i in range(n):\n",
        "    numeros.append(i+1)\n",
        "  dicWomenRand={}\n",
        "  for i in range(n):\n",
        "    clave='w'+str(i+1)\n",
        "    n=m\n",
        "    for i in range(n):\n",
        "      numeros.append(i+1)\n",
        "    valor=[]\n",
        "    for j in range(n):\n",
        "      v='m'+ str(numeros.pop(random.randint(0,n-1)))\n",
        "      n-=1\n",
        "      valor.append(v)\n",
        "    npValor= np.array(valor)\n",
        "    dicWomenRand[clave]=npValor\n",
        "  return dicWomenRand\n",
        "  \n",
        "  #return numeros\n",
        "womenRand(7)"
      ],
      "execution_count": 11,
      "outputs": [
        {
          "output_type": "execute_result",
          "data": {
            "text/plain": [
              "{'w1': array(['m4', 'm5', 'm7', 'm1', 'm6', 'm3', 'm2'], dtype='<U2'),\n",
              " 'w2': array(['m2', 'm5', 'm7', 'm1', 'm4', 'm3', 'm6'], dtype='<U2'),\n",
              " 'w3': array(['m1', 'm7', 'm3', 'm4', 'm2', 'm5', 'm6'], dtype='<U2'),\n",
              " 'w4': array(['m7', 'm3', 'm2', 'm4', 'm6', 'm5', 'm1'], dtype='<U2'),\n",
              " 'w5': array(['m4', 'm3', 'm1', 'm5', 'm6', 'm7', 'm2'], dtype='<U2'),\n",
              " 'w6': array(['m1', 'm6', 'm3', 'm4', 'm7', 'm2', 'm5'], dtype='<U2'),\n",
              " 'w7': array(['m5', 'm1', 'm6', 'm4', 'm3', 'm7', 'm2'], dtype='<U2')}"
            ]
          },
          "metadata": {
            "tags": []
          },
          "execution_count": 11
        }
      ]
    },
    {
      "cell_type": "code",
      "metadata": {
        "colab": {
          "base_uri": "https://localhost:8080/"
        },
        "id": "hdwuyntxxsG3",
        "outputId": "3849dd44-d3b6-4738-fc53-80d9e0befb56"
      },
      "source": [
        "import random\n",
        "def menRand(n):\n",
        "  m=n\n",
        "  numeros=[]\n",
        "  for i in range(n):\n",
        "    numeros.append(i+1)\n",
        "  dicMenRand={}\n",
        "  for i in range(n):\n",
        "    clave='m'+str(i+1)\n",
        "    n=m\n",
        "    for i in range(n):\n",
        "      numeros.append(i+1)\n",
        "    valor=[]\n",
        "    for j in range(n):\n",
        "      v='w'+ str(numeros.pop(random.randint(0,n-1)))\n",
        "      n-=1\n",
        "      valor.append(v)\n",
        "    npValor= np.array(valor)\n",
        "    dicMenRand[clave]=npValor\n",
        "  return dicMenRand\n",
        "  \n",
        "  #return numeros\n",
        "menRand(7)"
      ],
      "execution_count": 12,
      "outputs": [
        {
          "output_type": "execute_result",
          "data": {
            "text/plain": [
              "{'m1': array(['w4', 'w6', 'w1', 'w2', 'w7', 'w5', 'w3'], dtype='<U2'),\n",
              " 'm2': array(['w3', 'w7', 'w4', 'w1', 'w5', 'w6', 'w2'], dtype='<U2'),\n",
              " 'm3': array(['w1', 'w6', 'w3', 'w7', 'w5', 'w2', 'w4'], dtype='<U2'),\n",
              " 'm4': array(['w1', 'w2', 'w7', 'w6', 'w5', 'w3', 'w4'], dtype='<U2'),\n",
              " 'm5': array(['w2', 'w4', 'w7', 'w3', 'w1', 'w6', 'w5'], dtype='<U2'),\n",
              " 'm6': array(['w2', 'w3', 'w4', 'w7', 'w1', 'w6', 'w5'], dtype='<U2'),\n",
              " 'm7': array(['w4', 'w1', 'w5', 'w3', 'w7', 'w6', 'w2'], dtype='<U2')}"
            ]
          },
          "metadata": {
            "tags": []
          },
          "execution_count": 12
        }
      ]
    },
    {
      "cell_type": "code",
      "metadata": {
        "colab": {
          "base_uri": "https://localhost:8080/"
        },
        "id": "IBsrFBC7yJYT",
        "outputId": "57946238-4f5d-4de9-cb22-7189191371a4"
      },
      "source": [
        "from collections import defaultdict\n",
        "from operator import itemgetter\n",
        "\n",
        "def get_res(dVals):\n",
        "       res = defaultdict(list)\n",
        "       for k, v in dVals.items():\n",
        "           res[v].append(k)\n",
        "       return min(res.items(), key=itemgetter(0))[1]\n",
        "def stableMarriageRand(n,w={},m={}):\n",
        "  #m=menRand(n)\n",
        "  #print(m)\n",
        "  #w=womenRand(n)\n",
        "  #print(w)\n",
        "  aux={}\n",
        "  couplesDicR={}\n",
        "  women=w.items()\n",
        "  men=m.items()\n",
        "  pareados=False\n",
        "  for woman, preferences in women:\n",
        "    couplesDicR[woman]=''\n",
        "  s=1\n",
        "  iteracion=0\n",
        "  resp={}\n",
        "  while True:\n",
        "    elem=couplesDicR.items()\n",
        "    for key, value in elem:\n",
        "      aux[key]=value\n",
        "    for woman, preferences in women:\n",
        "      propuestas={}\n",
        "      for man, preferencess in men:\n",
        "        dec=False\n",
        "        mann=[man]\n",
        "        for z in couplesDicR.values():\n",
        "          if z==mann:\n",
        "            dec=True\n",
        "            break\n",
        "        if dec:\n",
        "          continue\n",
        "        else:\n",
        "          if preferencess[s]==woman:\n",
        "            indexMan=np.where(preferences == man)[0][0]\n",
        "            d = {man:indexMan} \n",
        "            propuestas.update(d)\n",
        "          if propuestas:\n",
        "            choice=get_res(propuestas)\n",
        "            if couplesDicR[woman]=='':\n",
        "              couplesDicR[woman]=choice\n",
        "            else:\n",
        "              indexCouple=np.where(preferences == couplesDicR[woman])[0][0]\n",
        "              indexChoice=np.where(preferences == choice)[0][0]\n",
        "              if indexChoice<indexCouple:\n",
        "                couplesDicR[woman]=choice\n",
        "                        \n",
        "    #print('iteraciones: ', s, ' ' ,couplesDicR)\n",
        "\n",
        "    if aux!=couplesDicR:\n",
        "      #print(\"False\")\n",
        "      iteracion=s\n",
        "      resp=couplesDicR      \n",
        "    #else:\n",
        "      #print(\"True\")\n",
        "      \n",
        "    \n",
        "    y=0\n",
        "    remain=''\n",
        "    for g, h in couplesDicR.items():\n",
        "      if h=='':\n",
        "        remain=g\n",
        "        y+=1\n",
        "        \n",
        "\n",
        "    if s>=n-1 and y==1 :\n",
        "      l=[]\n",
        "      for k in m.keys():\n",
        "         l.append([k])\n",
        "      for a in couplesDicR.values():\n",
        "        for k in m.keys():\n",
        "            t=[k]\n",
        "            if a==t:\n",
        "              if t in l:\n",
        "                l.remove(t)\n",
        "                \n",
        "                    \n",
        "      couplesDicR[remain]=l[0]\n",
        "      break\n",
        "\n",
        "    #if s==n-1 and y==0:\n",
        "      #break\n",
        "\n",
        "    #if aux==couplesDicR and y!=1 :\n",
        "      #break\n",
        "    if s>=n-1:\n",
        "      break\n",
        "    #print(s)\n",
        "    s+=1\n",
        "\n",
        "    \n",
        "  print('iteraciones: ', iteracion, ' ' ,resp)\n",
        "  return iteracion\n",
        "    \n",
        "x=menRand(5)\n",
        "y=womenRand(5)   \n",
        "stableMarriageRand(5,y,x)"
      ],
      "execution_count": 127,
      "outputs": [
        {
          "output_type": "stream",
          "text": [
            "iteraciones:  2   {'w1': ['m4'], 'w2': ['m2'], 'w3': ['m5'], 'w4': ['m1'], 'w5': ['m3']}\n"
          ],
          "name": "stdout"
        },
        {
          "output_type": "execute_result",
          "data": {
            "text/plain": [
              "2"
            ]
          },
          "metadata": {
            "tags": []
          },
          "execution_count": 127
        }
      ]
    },
    {
      "cell_type": "code",
      "metadata": {
        "colab": {
          "base_uri": "https://localhost:8080/",
          "height": 316
        },
        "id": "JqS7EOd5PQG6",
        "outputId": "a3eb7586-27e5-40f8-b5e2-31157ccb7850"
      },
      "source": [
        "import random\n",
        "import matplotlib.pyplot as plt\n",
        "def promedio(datos):\n",
        "    sumatoria = sum(datos)\n",
        "    longitud = float(len(datos))\n",
        "    resultado = sumatoria / longitud\n",
        "    return resultado\n",
        "\n",
        "def cienPruebas():\n",
        "  nums=[4,40]\n",
        "  iteraciones=[]\n",
        "  x=[]\n",
        "  for i in range(100):\n",
        "    x.append(i+1)\n",
        "    index=random.randint(0,1)\n",
        "    n=nums[index]\n",
        "    w=womenRand(n)\n",
        "    m=menRand(n)\n",
        "    iteraciones.append(stableMarriageRand(n,w,m))\n",
        "  print(\"minimo: \",min(iteraciones))\n",
        "  print(\"maximo: \",max(iteraciones))\n",
        "  print(\"promedio: \",promedio(iteraciones))\n",
        "  #plt.plot(x, iteraciones)\n",
        "  plt.hist(iteraciones, bins=15)\n",
        "  \n",
        "cienPruebas()\n"
      ],
      "execution_count": 124,
      "outputs": [
        {
          "output_type": "stream",
          "text": [
            "minimo:  1\n",
            "maximo:  39\n",
            "promedio:  13.27\n"
          ],
          "name": "stdout"
        },
        {
          "output_type": "display_data",
          "data": {
            "image/png": "[encoded data removed]",
            "text/plain": [
              "<Figure size 432x288 with 1 Axes>"
            ]
          },
          "metadata": {
            "tags": [],
            "needs_background": "light"
          }
        }
      ]
    }
  ]
}